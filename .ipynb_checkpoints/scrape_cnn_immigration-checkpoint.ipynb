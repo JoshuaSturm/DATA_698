{
 "cells": [
  {
   "cell_type": "code",
   "execution_count": 1,
   "metadata": {},
   "outputs": [],
   "source": [
    "from selenium import webdriver\n",
    "from selenium.webdriver.common.keys import Keys\n",
    "from selenium.webdriver.common.by import By\n",
    "from selenium.webdriver.support.ui import WebDriverWait\n",
    "from selenium.webdriver.support import expected_conditions as EC\n",
    "from bs4 import BeautifulSoup\n",
    "import re\n",
    "import pandas as pd\n",
    "import os\n",
    "import requests\n",
    "import pymongo\n",
    "import time\n",
    "from datetime import datetime"
   ]
  },
  {
   "cell_type": "code",
   "execution_count": 2,
   "metadata": {},
   "outputs": [],
   "source": [
    "client = pymongo.MongoClient('mongodb://')\n",
    "db = client.capstone\n",
    "col = db.cnntest"
   ]
  },
  {
   "cell_type": "code",
   "execution_count": 12,
   "metadata": {},
   "outputs": [],
   "source": [
    "frm = 0\n",
    "pg = 1\n",
    "url = 'https://www.cnn.com/search/?size=30&q=immigration%20border&type=article&from={}&page={}&sort=newest'.format(frm, pg)\n",
    "driver = webdriver.Chrome(executable_path=r\"C:/Users/Shua/Desktop/chromedriver.exe\")\n",
    "driver.implicitly_wait(30)\n",
    "driver.get(url)\n",
    "wait = WebDriverWait(driver, 15)\n",
    "alert = wait.until(EC.element_to_be_clickable((By.CLASS_NAME, \"optanon-alert-box-corner-close\")))\n",
    "alert = driver.find_element_by_class_name(\"optanon-alert-box-corner-close\")\n",
    "alert.click()\n",
    "soup=BeautifulSoup(driver.page_source, 'lxml')"
   ]
  },
  {
   "cell_type": "code",
   "execution_count": null,
   "metadata": {},
   "outputs": [],
   "source": [
    "while True:\n",
    "    soup=BeautifulSoup(driver.page_source, 'lxml')\n",
    "    results = soup.find_all(class_=\"cnn-search__result-contents\")\n",
    "    for result in results:\n",
    "#       if col.find({ 'URL': result.find(\"a\").get(\"href\") }).limit(1) == 0:\n",
    "        try:\n",
    "\n",
    "            # Get the article headline\n",
    "            headline = result.h3.text\n",
    "            #headlines.append(html.unescape(headline))\n",
    "\n",
    "            # Get the date of publication\n",
    "            date = result.find(class_=\"cnn-search__result-publish-date\").text.strip()\n",
    "            date = datetime.strptime(date, '%b %d, %Y')\n",
    "           # dates.append(date)\n",
    "\n",
    "            # Get the body of the article\n",
    "            content = result.find(class_=\"cnn-search__result-body\")\n",
    "            #contents.append(content)\n",
    "\n",
    "            # Get the link to the article\n",
    "            linkh = result.find(\"a\")\n",
    "            link = \"https:\" + linkh.get(\"href\")\n",
    "            #urls.append(url)\n",
    "\n",
    "            #cnn_df = cnn_df.append({'Headline': headline,\n",
    "            #                        'Date': date,\n",
    "            #                        'Content': content,\n",
    "            #                        'URL': url},\n",
    "            #                    ignore_index = True\n",
    "            #)  \n",
    "            col.insert_one({'Headline': headline.strip(),\n",
    "                                   'Date': date,\n",
    "                                   'Content': content.string.strip(),\n",
    "                                   'URL': link,\n",
    "                                   'Keyword': 'immigration'})\n",
    "        except Exception as ex:\n",
    "            print('Error:',  ex)\n",
    "        time.sleep(2)\n",
    "        # Check if there is another page\n",
    "    if soup.find(\"div\", \"pagination-arrow pagination-arrow-right cnnSearchPageLink text-active\") is not None:\n",
    "        # Go to next page\n",
    "#         driver.find_element(By.CSS_SELECTOR, \".pagination-arrow.pagination-arrow-right.cnnSearchPageLink.text-active\").click()\n",
    "        driver.find_element(By.CSS_SELECTOR, \".pagination-arrow.pagination-arrow-right.cnnSearchPageLink.text-active\").click()\n",
    "        driver.implicitly_wait(30)\n",
    "        #url = driver.current_url\n",
    "        #driver.get(url)\n",
    "        time.sleep(5)\n",
    "    #    #url = 'https://www.cnn.com/search/?size=30&q=abortion&type=article&from={}&page={}'.format(frm = frm + 30, pg = pg + 1)\n",
    "    #    frm = frm + 30\n",
    "    #    pg = pg + 1\n",
    "    #    url = 'https://www.cnn.com/search/?size=30&q=abortion&type=article&from=' + str(frm) + '&page=' + str(pg) + '&sort=newest'\n",
    "    else:\n",
    "        print(\"No more pages!\")\n",
    "        break\n"
   ]
  }
 ],
 "metadata": {
  "kernelspec": {
   "display_name": "Python 3",
   "language": "python",
   "name": "python3"
  },
  "language_info": {
   "codemirror_mode": {
    "name": "ipython",
    "version": 3
   },
   "file_extension": ".py",
   "mimetype": "text/x-python",
   "name": "python",
   "nbconvert_exporter": "python",
   "pygments_lexer": "ipython3",
   "version": "3.7.1"
  }
 },
 "nbformat": 4,
 "nbformat_minor": 2
}
